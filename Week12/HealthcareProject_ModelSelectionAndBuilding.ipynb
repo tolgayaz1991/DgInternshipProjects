{
 "cells": [
  {
   "cell_type": "markdown",
   "id": "2d74f137",
   "metadata": {},
   "source": [
    "---\n",
    "---\n",
    "---"
   ]
  },
  {
   "cell_type": "markdown",
   "id": "9f9a2516",
   "metadata": {},
   "source": [
    "# 12.0. Week 12 Project Deliverables\n",
    "\n",
    "### Group Name: Decent Healthcare Analytics \n",
    "\n",
    "### Name: Tolga Yaz \n",
    "\n",
    "### E-Mail: tolgayaz1991@gmail.com \n",
    "\n",
    "### Country: Turkey \n",
    "\n",
    "### Specialization: Data Science \n",
    "\n",
    "\n",
    "# _10.1. Import Basic Libraries to Use and Load the Dataset_\n",
    "\n",
    "# _10.2. Model Selection, Building and Comparison_\n",
    "\n",
    "# _10.3. Result_"
   ]
  },
  {
   "cell_type": "markdown",
   "id": "1ef52c33",
   "metadata": {},
   "source": [
    "---\n",
    "---\n",
    "---"
   ]
  },
  {
   "cell_type": "markdown",
   "id": "b39c4552",
   "metadata": {},
   "source": [
    "# _10.1. Import Basic Libraries to Use and Load the Dataset_"
   ]
  },
  {
   "cell_type": "code",
   "execution_count": 2,
   "id": "88151453",
   "metadata": {},
   "outputs": [],
   "source": [
    "import pandas as pd\n",
    "import numpy as np"
   ]
  },
  {
   "cell_type": "code",
   "execution_count": 2,
   "id": "f868f689",
   "metadata": {},
   "outputs": [],
   "source": [
    "pd.set_option(\"display.max_rows\", None)\n",
    "pd.set_option(\"display.max_columns\", None)"
   ]
  },
  {
   "cell_type": "code",
   "execution_count": 6,
   "id": "ad4c353e",
   "metadata": {},
   "outputs": [],
   "source": [
    "dfHealthCare = pd.read_csv(\"dfHealthcare_after_eda_v1.csv\")"
   ]
  },
  {
   "cell_type": "code",
   "execution_count": 23,
   "id": "b246208a",
   "metadata": {},
   "outputs": [
    {
     "data": {
      "text/html": [
       "<div>\n",
       "<style scoped>\n",
       "    .dataframe tbody tr th:only-of-type {\n",
       "        vertical-align: middle;\n",
       "    }\n",
       "\n",
       "    .dataframe tbody tr th {\n",
       "        vertical-align: top;\n",
       "    }\n",
       "\n",
       "    .dataframe thead th {\n",
       "        text-align: right;\n",
       "    }\n",
       "</style>\n",
       "<table border=\"1\" class=\"dataframe\">\n",
       "  <thead>\n",
       "    <tr style=\"text-align: right;\">\n",
       "      <th></th>\n",
       "      <th>Persistency_Flag</th>\n",
       "      <th>Race</th>\n",
       "      <th>Region</th>\n",
       "      <th>Age_Bucket</th>\n",
       "      <th>Gluco_Record_During_Rx</th>\n",
       "      <th>Dexa_Freq_During_Rx</th>\n",
       "      <th>Dexa_During_Rx</th>\n",
       "      <th>Frag_Frac_During_Rx</th>\n",
       "      <th>Adherent_Flag</th>\n",
       "      <th>Comorb_Encounter_For_Screening_For_Malignant_Neoplasms</th>\n",
       "      <th>Comorb_Encounter_For_Immunization</th>\n",
       "      <th>Comorb_Encntr_For_General_Exam_W_O_Complaint,_Susp_Or_Reprtd_Dx</th>\n",
       "      <th>Comorb_Vitamin_D_Deficiency</th>\n",
       "      <th>Comorb_Other_Joint_Disorder_Not_Elsewhere_Classified</th>\n",
       "      <th>Comorb_Encntr_For_Oth_Sp_Exam_W_O_Complaint_Suspected_Or_Reprtd_Dx</th>\n",
       "      <th>Comorb_Long_Term_Current_Drug_Therapy</th>\n",
       "      <th>Comorb_Dorsalgia</th>\n",
       "      <th>Comorb_Personal_History_Of_Other_Diseases_And_Conditions</th>\n",
       "      <th>Comorb_Other_Disorders_Of_Bone_Density_And_Structure</th>\n",
       "      <th>Comorb_Personal_history_of_malignant_neoplasm</th>\n",
       "      <th>Comorb_Gastro_esophageal_reflux_disease</th>\n",
       "      <th>Concom_Narcotics</th>\n",
       "      <th>Concom_Systemic_Corticosteroids_Plain</th>\n",
       "      <th>Concom_Fluoroquinolones</th>\n",
       "      <th>Concom_Cephalosporins</th>\n",
       "      <th>Concom_Macrolides_And_Similar_Types</th>\n",
       "      <th>Concom_Broad_Spectrum_Penicillins</th>\n",
       "      <th>Concom_Anaesthetics_General</th>\n",
       "      <th>Concom_Viral_Vaccines</th>\n",
       "      <th>Risk_Osteogenesis_Imperfecta</th>\n",
       "      <th>Risk_Rheumatoid_Arthritis</th>\n",
       "      <th>Risk_Untreated_Chronic_Hypogonadism</th>\n",
       "      <th>Risk_Chronic_Liver_Disease</th>\n",
       "      <th>Count_Of_Risks</th>\n",
       "    </tr>\n",
       "  </thead>\n",
       "  <tbody>\n",
       "    <tr>\n",
       "      <th>0</th>\n",
       "      <td>1.0</td>\n",
       "      <td>Caucasian</td>\n",
       "      <td>West</td>\n",
       "      <td>&gt;75</td>\n",
       "      <td>N</td>\n",
       "      <td>0</td>\n",
       "      <td>N</td>\n",
       "      <td>N</td>\n",
       "      <td>Adherent</td>\n",
       "      <td>N</td>\n",
       "      <td>Y</td>\n",
       "      <td>Y</td>\n",
       "      <td>N</td>\n",
       "      <td>N</td>\n",
       "      <td>Y</td>\n",
       "      <td>N</td>\n",
       "      <td>Y</td>\n",
       "      <td>Y</td>\n",
       "      <td>N</td>\n",
       "      <td>N</td>\n",
       "      <td>N</td>\n",
       "      <td>N</td>\n",
       "      <td>N</td>\n",
       "      <td>N</td>\n",
       "      <td>N</td>\n",
       "      <td>N</td>\n",
       "      <td>N</td>\n",
       "      <td>N</td>\n",
       "      <td>N</td>\n",
       "      <td>N</td>\n",
       "      <td>N</td>\n",
       "      <td>N</td>\n",
       "      <td>N</td>\n",
       "      <td>0</td>\n",
       "    </tr>\n",
       "    <tr>\n",
       "      <th>1</th>\n",
       "      <td>0.0</td>\n",
       "      <td>Asian</td>\n",
       "      <td>West</td>\n",
       "      <td>55-65</td>\n",
       "      <td>N</td>\n",
       "      <td>0</td>\n",
       "      <td>N</td>\n",
       "      <td>N</td>\n",
       "      <td>Adherent</td>\n",
       "      <td>N</td>\n",
       "      <td>N</td>\n",
       "      <td>Y</td>\n",
       "      <td>N</td>\n",
       "      <td>N</td>\n",
       "      <td>N</td>\n",
       "      <td>N</td>\n",
       "      <td>N</td>\n",
       "      <td>N</td>\n",
       "      <td>N</td>\n",
       "      <td>N</td>\n",
       "      <td>N</td>\n",
       "      <td>N</td>\n",
       "      <td>N</td>\n",
       "      <td>N</td>\n",
       "      <td>N</td>\n",
       "      <td>N</td>\n",
       "      <td>N</td>\n",
       "      <td>N</td>\n",
       "      <td>N</td>\n",
       "      <td>N</td>\n",
       "      <td>N</td>\n",
       "      <td>N</td>\n",
       "      <td>N</td>\n",
       "      <td>0</td>\n",
       "    </tr>\n",
       "    <tr>\n",
       "      <th>2</th>\n",
       "      <td>0.0</td>\n",
       "      <td>Caucasian</td>\n",
       "      <td>Midwest</td>\n",
       "      <td>&gt;75</td>\n",
       "      <td>Y</td>\n",
       "      <td>0</td>\n",
       "      <td>N</td>\n",
       "      <td>N</td>\n",
       "      <td>Adherent</td>\n",
       "      <td>N</td>\n",
       "      <td>Y</td>\n",
       "      <td>Y</td>\n",
       "      <td>N</td>\n",
       "      <td>Y</td>\n",
       "      <td>N</td>\n",
       "      <td>N</td>\n",
       "      <td>Y</td>\n",
       "      <td>N</td>\n",
       "      <td>N</td>\n",
       "      <td>N</td>\n",
       "      <td>Y</td>\n",
       "      <td>Y</td>\n",
       "      <td>Y</td>\n",
       "      <td>N</td>\n",
       "      <td>N</td>\n",
       "      <td>N</td>\n",
       "      <td>N</td>\n",
       "      <td>N</td>\n",
       "      <td>Y</td>\n",
       "      <td>N</td>\n",
       "      <td>N</td>\n",
       "      <td>N</td>\n",
       "      <td>N</td>\n",
       "      <td>1</td>\n",
       "    </tr>\n",
       "    <tr>\n",
       "      <th>3</th>\n",
       "      <td>0.0</td>\n",
       "      <td>Caucasian</td>\n",
       "      <td>Midwest</td>\n",
       "      <td>&gt;75</td>\n",
       "      <td>Y</td>\n",
       "      <td>0</td>\n",
       "      <td>N</td>\n",
       "      <td>N</td>\n",
       "      <td>Adherent</td>\n",
       "      <td>Y</td>\n",
       "      <td>Y</td>\n",
       "      <td>Y</td>\n",
       "      <td>N</td>\n",
       "      <td>N</td>\n",
       "      <td>N</td>\n",
       "      <td>N</td>\n",
       "      <td>Y</td>\n",
       "      <td>Y</td>\n",
       "      <td>N</td>\n",
       "      <td>N</td>\n",
       "      <td>N</td>\n",
       "      <td>Y</td>\n",
       "      <td>Y</td>\n",
       "      <td>N</td>\n",
       "      <td>N</td>\n",
       "      <td>N</td>\n",
       "      <td>N</td>\n",
       "      <td>N</td>\n",
       "      <td>N</td>\n",
       "      <td>N</td>\n",
       "      <td>N</td>\n",
       "      <td>N</td>\n",
       "      <td>N</td>\n",
       "      <td>1</td>\n",
       "    </tr>\n",
       "    <tr>\n",
       "      <th>4</th>\n",
       "      <td>0.0</td>\n",
       "      <td>Caucasian</td>\n",
       "      <td>Midwest</td>\n",
       "      <td>&gt;75</td>\n",
       "      <td>N</td>\n",
       "      <td>0</td>\n",
       "      <td>N</td>\n",
       "      <td>N</td>\n",
       "      <td>Adherent</td>\n",
       "      <td>N</td>\n",
       "      <td>N</td>\n",
       "      <td>N</td>\n",
       "      <td>N</td>\n",
       "      <td>N</td>\n",
       "      <td>N</td>\n",
       "      <td>N</td>\n",
       "      <td>N</td>\n",
       "      <td>N</td>\n",
       "      <td>N</td>\n",
       "      <td>N</td>\n",
       "      <td>N</td>\n",
       "      <td>N</td>\n",
       "      <td>N</td>\n",
       "      <td>N</td>\n",
       "      <td>N</td>\n",
       "      <td>N</td>\n",
       "      <td>N</td>\n",
       "      <td>N</td>\n",
       "      <td>N</td>\n",
       "      <td>N</td>\n",
       "      <td>N</td>\n",
       "      <td>N</td>\n",
       "      <td>N</td>\n",
       "      <td>2</td>\n",
       "    </tr>\n",
       "  </tbody>\n",
       "</table>\n",
       "</div>"
      ],
      "text/plain": [
       "   Persistency_Flag       Race   Region Age_Bucket Gluco_Record_During_Rx  \\\n",
       "0               1.0  Caucasian     West        >75                      N   \n",
       "1               0.0      Asian     West      55-65                      N   \n",
       "2               0.0  Caucasian  Midwest        >75                      Y   \n",
       "3               0.0  Caucasian  Midwest        >75                      Y   \n",
       "4               0.0  Caucasian  Midwest        >75                      N   \n",
       "\n",
       "   Dexa_Freq_During_Rx Dexa_During_Rx Frag_Frac_During_Rx Adherent_Flag  \\\n",
       "0                    0              N                   N      Adherent   \n",
       "1                    0              N                   N      Adherent   \n",
       "2                    0              N                   N      Adherent   \n",
       "3                    0              N                   N      Adherent   \n",
       "4                    0              N                   N      Adherent   \n",
       "\n",
       "  Comorb_Encounter_For_Screening_For_Malignant_Neoplasms  \\\n",
       "0                                                  N       \n",
       "1                                                  N       \n",
       "2                                                  N       \n",
       "3                                                  Y       \n",
       "4                                                  N       \n",
       "\n",
       "  Comorb_Encounter_For_Immunization  \\\n",
       "0                                 Y   \n",
       "1                                 N   \n",
       "2                                 Y   \n",
       "3                                 Y   \n",
       "4                                 N   \n",
       "\n",
       "  Comorb_Encntr_For_General_Exam_W_O_Complaint,_Susp_Or_Reprtd_Dx  \\\n",
       "0                                                  Y                \n",
       "1                                                  Y                \n",
       "2                                                  Y                \n",
       "3                                                  Y                \n",
       "4                                                  N                \n",
       "\n",
       "  Comorb_Vitamin_D_Deficiency  \\\n",
       "0                           N   \n",
       "1                           N   \n",
       "2                           N   \n",
       "3                           N   \n",
       "4                           N   \n",
       "\n",
       "  Comorb_Other_Joint_Disorder_Not_Elsewhere_Classified  \\\n",
       "0                                                  N     \n",
       "1                                                  N     \n",
       "2                                                  Y     \n",
       "3                                                  N     \n",
       "4                                                  N     \n",
       "\n",
       "  Comorb_Encntr_For_Oth_Sp_Exam_W_O_Complaint_Suspected_Or_Reprtd_Dx  \\\n",
       "0                                                  Y                   \n",
       "1                                                  N                   \n",
       "2                                                  N                   \n",
       "3                                                  N                   \n",
       "4                                                  N                   \n",
       "\n",
       "  Comorb_Long_Term_Current_Drug_Therapy Comorb_Dorsalgia  \\\n",
       "0                                     N                Y   \n",
       "1                                     N                N   \n",
       "2                                     N                Y   \n",
       "3                                     N                Y   \n",
       "4                                     N                N   \n",
       "\n",
       "  Comorb_Personal_History_Of_Other_Diseases_And_Conditions  \\\n",
       "0                                                  Y         \n",
       "1                                                  N         \n",
       "2                                                  N         \n",
       "3                                                  Y         \n",
       "4                                                  N         \n",
       "\n",
       "  Comorb_Other_Disorders_Of_Bone_Density_And_Structure  \\\n",
       "0                                                  N     \n",
       "1                                                  N     \n",
       "2                                                  N     \n",
       "3                                                  N     \n",
       "4                                                  N     \n",
       "\n",
       "  Comorb_Personal_history_of_malignant_neoplasm  \\\n",
       "0                                             N   \n",
       "1                                             N   \n",
       "2                                             N   \n",
       "3                                             N   \n",
       "4                                             N   \n",
       "\n",
       "  Comorb_Gastro_esophageal_reflux_disease Concom_Narcotics  \\\n",
       "0                                       N                N   \n",
       "1                                       N                N   \n",
       "2                                       Y                Y   \n",
       "3                                       N                Y   \n",
       "4                                       N                N   \n",
       "\n",
       "  Concom_Systemic_Corticosteroids_Plain Concom_Fluoroquinolones  \\\n",
       "0                                     N                       N   \n",
       "1                                     N                       N   \n",
       "2                                     Y                       N   \n",
       "3                                     Y                       N   \n",
       "4                                     N                       N   \n",
       "\n",
       "  Concom_Cephalosporins Concom_Macrolides_And_Similar_Types  \\\n",
       "0                     N                                   N   \n",
       "1                     N                                   N   \n",
       "2                     N                                   N   \n",
       "3                     N                                   N   \n",
       "4                     N                                   N   \n",
       "\n",
       "  Concom_Broad_Spectrum_Penicillins Concom_Anaesthetics_General  \\\n",
       "0                                 N                           N   \n",
       "1                                 N                           N   \n",
       "2                                 N                           N   \n",
       "3                                 N                           N   \n",
       "4                                 N                           N   \n",
       "\n",
       "  Concom_Viral_Vaccines Risk_Osteogenesis_Imperfecta  \\\n",
       "0                     N                            N   \n",
       "1                     N                            N   \n",
       "2                     Y                            N   \n",
       "3                     N                            N   \n",
       "4                     N                            N   \n",
       "\n",
       "  Risk_Rheumatoid_Arthritis Risk_Untreated_Chronic_Hypogonadism  \\\n",
       "0                         N                                   N   \n",
       "1                         N                                   N   \n",
       "2                         N                                   N   \n",
       "3                         N                                   N   \n",
       "4                         N                                   N   \n",
       "\n",
       "  Risk_Chronic_Liver_Disease  Count_Of_Risks  \n",
       "0                          N               0  \n",
       "1                          N               0  \n",
       "2                          N               1  \n",
       "3                          N               1  \n",
       "4                          N               2  "
      ]
     },
     "execution_count": 23,
     "metadata": {},
     "output_type": "execute_result"
    }
   ],
   "source": [
    "dfHealthCare.head()"
   ]
  },
  {
   "cell_type": "code",
   "execution_count": 27,
   "id": "df41f2dd",
   "metadata": {},
   "outputs": [],
   "source": [
    "cat_columns = dfHealthCare.columns.to_list()"
   ]
  },
  {
   "cell_type": "code",
   "execution_count": 42,
   "id": "0e15d5f9",
   "metadata": {},
   "outputs": [],
   "source": [
    "from sklearn.preprocessing import OrdinalEncoder"
   ]
  },
  {
   "cell_type": "code",
   "execution_count": 43,
   "id": "d61bc4cc",
   "metadata": {},
   "outputs": [],
   "source": [
    "encoder1 = OrdinalEncoder()"
   ]
  },
  {
   "cell_type": "code",
   "execution_count": 44,
   "id": "bdefe021",
   "metadata": {},
   "outputs": [
    {
     "data": {
      "text/plain": [
       "OrdinalEncoder()"
      ]
     },
     "execution_count": 44,
     "metadata": {},
     "output_type": "execute_result"
    }
   ],
   "source": [
    "encoder1.fit(dfHealthCare[[\"Gluco_Record_During_Rx\"]])"
   ]
  },
  {
   "cell_type": "code",
   "execution_count": 45,
   "id": "5687bbbb",
   "metadata": {},
   "outputs": [],
   "source": [
    "def encodeCols(cols):\n",
    "    for col in cols:\n",
    "        dfHealthCare[[col]] = encoder1.transform(dfHealthCare[[col]])"
   ]
  },
  {
   "cell_type": "code",
   "execution_count": 47,
   "id": "4605063d",
   "metadata": {},
   "outputs": [],
   "source": [
    "encodeCols(cat_columns)"
   ]
  },
  {
   "cell_type": "code",
   "execution_count": 54,
   "id": "9ff098ac",
   "metadata": {},
   "outputs": [],
   "source": [
    "dfHealthCare[[\"Race\"]] = encoder1.fit_transform(dfHealthCare[[\"Race\"]])"
   ]
  },
  {
   "cell_type": "code",
   "execution_count": 55,
   "id": "e810f589",
   "metadata": {},
   "outputs": [],
   "source": [
    "dfHealthCare[[\"Region\"]] = encoder1.fit_transform(dfHealthCare[[\"Region\"]])"
   ]
  },
  {
   "cell_type": "code",
   "execution_count": 56,
   "id": "ce4b8812",
   "metadata": {},
   "outputs": [],
   "source": [
    "dfHealthCare[[\"Adherent_Flag\"]] = encoder1.fit_transform(dfHealthCare[[\"Adherent_Flag\"]])"
   ]
  },
  {
   "cell_type": "code",
   "execution_count": 57,
   "id": "b87165e9",
   "metadata": {},
   "outputs": [],
   "source": [
    "dfHealthCare[[\"Age_Bucket\"]] = encoder1.fit_transform(dfHealthCare[[\"Age_Bucket\"]])"
   ]
  },
  {
   "cell_type": "code",
   "execution_count": 58,
   "id": "f138701f",
   "metadata": {},
   "outputs": [
    {
     "data": {
      "text/html": [
       "<div>\n",
       "<style scoped>\n",
       "    .dataframe tbody tr th:only-of-type {\n",
       "        vertical-align: middle;\n",
       "    }\n",
       "\n",
       "    .dataframe tbody tr th {\n",
       "        vertical-align: top;\n",
       "    }\n",
       "\n",
       "    .dataframe thead th {\n",
       "        text-align: right;\n",
       "    }\n",
       "</style>\n",
       "<table border=\"1\" class=\"dataframe\">\n",
       "  <thead>\n",
       "    <tr style=\"text-align: right;\">\n",
       "      <th></th>\n",
       "      <th>Persistency_Flag</th>\n",
       "      <th>Race</th>\n",
       "      <th>Region</th>\n",
       "      <th>Age_Bucket</th>\n",
       "      <th>Gluco_Record_During_Rx</th>\n",
       "      <th>Dexa_Freq_During_Rx</th>\n",
       "      <th>Dexa_During_Rx</th>\n",
       "      <th>Frag_Frac_During_Rx</th>\n",
       "      <th>Adherent_Flag</th>\n",
       "      <th>Comorb_Encounter_For_Screening_For_Malignant_Neoplasms</th>\n",
       "      <th>Comorb_Encounter_For_Immunization</th>\n",
       "      <th>Comorb_Encntr_For_General_Exam_W_O_Complaint,_Susp_Or_Reprtd_Dx</th>\n",
       "      <th>Comorb_Vitamin_D_Deficiency</th>\n",
       "      <th>Comorb_Other_Joint_Disorder_Not_Elsewhere_Classified</th>\n",
       "      <th>Comorb_Encntr_For_Oth_Sp_Exam_W_O_Complaint_Suspected_Or_Reprtd_Dx</th>\n",
       "      <th>Comorb_Long_Term_Current_Drug_Therapy</th>\n",
       "      <th>Comorb_Dorsalgia</th>\n",
       "      <th>Comorb_Personal_History_Of_Other_Diseases_And_Conditions</th>\n",
       "      <th>Comorb_Other_Disorders_Of_Bone_Density_And_Structure</th>\n",
       "      <th>Comorb_Personal_history_of_malignant_neoplasm</th>\n",
       "      <th>Comorb_Gastro_esophageal_reflux_disease</th>\n",
       "      <th>Concom_Narcotics</th>\n",
       "      <th>Concom_Systemic_Corticosteroids_Plain</th>\n",
       "      <th>Concom_Fluoroquinolones</th>\n",
       "      <th>Concom_Cephalosporins</th>\n",
       "      <th>Concom_Macrolides_And_Similar_Types</th>\n",
       "      <th>Concom_Broad_Spectrum_Penicillins</th>\n",
       "      <th>Concom_Anaesthetics_General</th>\n",
       "      <th>Concom_Viral_Vaccines</th>\n",
       "      <th>Risk_Osteogenesis_Imperfecta</th>\n",
       "      <th>Risk_Rheumatoid_Arthritis</th>\n",
       "      <th>Risk_Untreated_Chronic_Hypogonadism</th>\n",
       "      <th>Risk_Chronic_Liver_Disease</th>\n",
       "      <th>Count_Of_Risks</th>\n",
       "    </tr>\n",
       "  </thead>\n",
       "  <tbody>\n",
       "    <tr>\n",
       "      <th>0</th>\n",
       "      <td>1.0</td>\n",
       "      <td>2.0</td>\n",
       "      <td>3.0</td>\n",
       "      <td>3.0</td>\n",
       "      <td>0.0</td>\n",
       "      <td>0</td>\n",
       "      <td>0.0</td>\n",
       "      <td>0.0</td>\n",
       "      <td>0.0</td>\n",
       "      <td>0.0</td>\n",
       "      <td>1.0</td>\n",
       "      <td>1.0</td>\n",
       "      <td>0.0</td>\n",
       "      <td>0.0</td>\n",
       "      <td>1.0</td>\n",
       "      <td>0.0</td>\n",
       "      <td>1.0</td>\n",
       "      <td>1.0</td>\n",
       "      <td>0.0</td>\n",
       "      <td>0.0</td>\n",
       "      <td>0.0</td>\n",
       "      <td>0.0</td>\n",
       "      <td>0.0</td>\n",
       "      <td>0.0</td>\n",
       "      <td>0.0</td>\n",
       "      <td>0.0</td>\n",
       "      <td>0.0</td>\n",
       "      <td>0.0</td>\n",
       "      <td>0.0</td>\n",
       "      <td>0.0</td>\n",
       "      <td>0.0</td>\n",
       "      <td>0.0</td>\n",
       "      <td>0.0</td>\n",
       "      <td>0</td>\n",
       "    </tr>\n",
       "    <tr>\n",
       "      <th>1</th>\n",
       "      <td>0.0</td>\n",
       "      <td>1.0</td>\n",
       "      <td>3.0</td>\n",
       "      <td>0.0</td>\n",
       "      <td>0.0</td>\n",
       "      <td>0</td>\n",
       "      <td>0.0</td>\n",
       "      <td>0.0</td>\n",
       "      <td>0.0</td>\n",
       "      <td>0.0</td>\n",
       "      <td>0.0</td>\n",
       "      <td>1.0</td>\n",
       "      <td>0.0</td>\n",
       "      <td>0.0</td>\n",
       "      <td>0.0</td>\n",
       "      <td>0.0</td>\n",
       "      <td>0.0</td>\n",
       "      <td>0.0</td>\n",
       "      <td>0.0</td>\n",
       "      <td>0.0</td>\n",
       "      <td>0.0</td>\n",
       "      <td>0.0</td>\n",
       "      <td>0.0</td>\n",
       "      <td>0.0</td>\n",
       "      <td>0.0</td>\n",
       "      <td>0.0</td>\n",
       "      <td>0.0</td>\n",
       "      <td>0.0</td>\n",
       "      <td>0.0</td>\n",
       "      <td>0.0</td>\n",
       "      <td>0.0</td>\n",
       "      <td>0.0</td>\n",
       "      <td>0.0</td>\n",
       "      <td>0</td>\n",
       "    </tr>\n",
       "    <tr>\n",
       "      <th>2</th>\n",
       "      <td>0.0</td>\n",
       "      <td>2.0</td>\n",
       "      <td>0.0</td>\n",
       "      <td>3.0</td>\n",
       "      <td>1.0</td>\n",
       "      <td>0</td>\n",
       "      <td>0.0</td>\n",
       "      <td>0.0</td>\n",
       "      <td>0.0</td>\n",
       "      <td>0.0</td>\n",
       "      <td>1.0</td>\n",
       "      <td>1.0</td>\n",
       "      <td>0.0</td>\n",
       "      <td>1.0</td>\n",
       "      <td>0.0</td>\n",
       "      <td>0.0</td>\n",
       "      <td>1.0</td>\n",
       "      <td>0.0</td>\n",
       "      <td>0.0</td>\n",
       "      <td>0.0</td>\n",
       "      <td>1.0</td>\n",
       "      <td>1.0</td>\n",
       "      <td>1.0</td>\n",
       "      <td>0.0</td>\n",
       "      <td>0.0</td>\n",
       "      <td>0.0</td>\n",
       "      <td>0.0</td>\n",
       "      <td>0.0</td>\n",
       "      <td>1.0</td>\n",
       "      <td>0.0</td>\n",
       "      <td>0.0</td>\n",
       "      <td>0.0</td>\n",
       "      <td>0.0</td>\n",
       "      <td>1</td>\n",
       "    </tr>\n",
       "    <tr>\n",
       "      <th>3</th>\n",
       "      <td>0.0</td>\n",
       "      <td>2.0</td>\n",
       "      <td>0.0</td>\n",
       "      <td>3.0</td>\n",
       "      <td>1.0</td>\n",
       "      <td>0</td>\n",
       "      <td>0.0</td>\n",
       "      <td>0.0</td>\n",
       "      <td>0.0</td>\n",
       "      <td>1.0</td>\n",
       "      <td>1.0</td>\n",
       "      <td>1.0</td>\n",
       "      <td>0.0</td>\n",
       "      <td>0.0</td>\n",
       "      <td>0.0</td>\n",
       "      <td>0.0</td>\n",
       "      <td>1.0</td>\n",
       "      <td>1.0</td>\n",
       "      <td>0.0</td>\n",
       "      <td>0.0</td>\n",
       "      <td>0.0</td>\n",
       "      <td>1.0</td>\n",
       "      <td>1.0</td>\n",
       "      <td>0.0</td>\n",
       "      <td>0.0</td>\n",
       "      <td>0.0</td>\n",
       "      <td>0.0</td>\n",
       "      <td>0.0</td>\n",
       "      <td>0.0</td>\n",
       "      <td>0.0</td>\n",
       "      <td>0.0</td>\n",
       "      <td>0.0</td>\n",
       "      <td>0.0</td>\n",
       "      <td>1</td>\n",
       "    </tr>\n",
       "    <tr>\n",
       "      <th>4</th>\n",
       "      <td>0.0</td>\n",
       "      <td>2.0</td>\n",
       "      <td>0.0</td>\n",
       "      <td>3.0</td>\n",
       "      <td>0.0</td>\n",
       "      <td>0</td>\n",
       "      <td>0.0</td>\n",
       "      <td>0.0</td>\n",
       "      <td>0.0</td>\n",
       "      <td>0.0</td>\n",
       "      <td>0.0</td>\n",
       "      <td>0.0</td>\n",
       "      <td>0.0</td>\n",
       "      <td>0.0</td>\n",
       "      <td>0.0</td>\n",
       "      <td>0.0</td>\n",
       "      <td>0.0</td>\n",
       "      <td>0.0</td>\n",
       "      <td>0.0</td>\n",
       "      <td>0.0</td>\n",
       "      <td>0.0</td>\n",
       "      <td>0.0</td>\n",
       "      <td>0.0</td>\n",
       "      <td>0.0</td>\n",
       "      <td>0.0</td>\n",
       "      <td>0.0</td>\n",
       "      <td>0.0</td>\n",
       "      <td>0.0</td>\n",
       "      <td>0.0</td>\n",
       "      <td>0.0</td>\n",
       "      <td>0.0</td>\n",
       "      <td>0.0</td>\n",
       "      <td>0.0</td>\n",
       "      <td>2</td>\n",
       "    </tr>\n",
       "  </tbody>\n",
       "</table>\n",
       "</div>"
      ],
      "text/plain": [
       "   Persistency_Flag  Race  Region  Age_Bucket  Gluco_Record_During_Rx  \\\n",
       "0               1.0   2.0     3.0         3.0                     0.0   \n",
       "1               0.0   1.0     3.0         0.0                     0.0   \n",
       "2               0.0   2.0     0.0         3.0                     1.0   \n",
       "3               0.0   2.0     0.0         3.0                     1.0   \n",
       "4               0.0   2.0     0.0         3.0                     0.0   \n",
       "\n",
       "   Dexa_Freq_During_Rx  Dexa_During_Rx  Frag_Frac_During_Rx  Adherent_Flag  \\\n",
       "0                    0             0.0                  0.0            0.0   \n",
       "1                    0             0.0                  0.0            0.0   \n",
       "2                    0             0.0                  0.0            0.0   \n",
       "3                    0             0.0                  0.0            0.0   \n",
       "4                    0             0.0                  0.0            0.0   \n",
       "\n",
       "   Comorb_Encounter_For_Screening_For_Malignant_Neoplasms  \\\n",
       "0                                                0.0        \n",
       "1                                                0.0        \n",
       "2                                                0.0        \n",
       "3                                                1.0        \n",
       "4                                                0.0        \n",
       "\n",
       "   Comorb_Encounter_For_Immunization  \\\n",
       "0                                1.0   \n",
       "1                                0.0   \n",
       "2                                1.0   \n",
       "3                                1.0   \n",
       "4                                0.0   \n",
       "\n",
       "   Comorb_Encntr_For_General_Exam_W_O_Complaint,_Susp_Or_Reprtd_Dx  \\\n",
       "0                                                1.0                 \n",
       "1                                                1.0                 \n",
       "2                                                1.0                 \n",
       "3                                                1.0                 \n",
       "4                                                0.0                 \n",
       "\n",
       "   Comorb_Vitamin_D_Deficiency  \\\n",
       "0                          0.0   \n",
       "1                          0.0   \n",
       "2                          0.0   \n",
       "3                          0.0   \n",
       "4                          0.0   \n",
       "\n",
       "   Comorb_Other_Joint_Disorder_Not_Elsewhere_Classified  \\\n",
       "0                                                0.0      \n",
       "1                                                0.0      \n",
       "2                                                1.0      \n",
       "3                                                0.0      \n",
       "4                                                0.0      \n",
       "\n",
       "   Comorb_Encntr_For_Oth_Sp_Exam_W_O_Complaint_Suspected_Or_Reprtd_Dx  \\\n",
       "0                                                1.0                    \n",
       "1                                                0.0                    \n",
       "2                                                0.0                    \n",
       "3                                                0.0                    \n",
       "4                                                0.0                    \n",
       "\n",
       "   Comorb_Long_Term_Current_Drug_Therapy  Comorb_Dorsalgia  \\\n",
       "0                                    0.0               1.0   \n",
       "1                                    0.0               0.0   \n",
       "2                                    0.0               1.0   \n",
       "3                                    0.0               1.0   \n",
       "4                                    0.0               0.0   \n",
       "\n",
       "   Comorb_Personal_History_Of_Other_Diseases_And_Conditions  \\\n",
       "0                                                1.0          \n",
       "1                                                0.0          \n",
       "2                                                0.0          \n",
       "3                                                1.0          \n",
       "4                                                0.0          \n",
       "\n",
       "   Comorb_Other_Disorders_Of_Bone_Density_And_Structure  \\\n",
       "0                                                0.0      \n",
       "1                                                0.0      \n",
       "2                                                0.0      \n",
       "3                                                0.0      \n",
       "4                                                0.0      \n",
       "\n",
       "   Comorb_Personal_history_of_malignant_neoplasm  \\\n",
       "0                                            0.0   \n",
       "1                                            0.0   \n",
       "2                                            0.0   \n",
       "3                                            0.0   \n",
       "4                                            0.0   \n",
       "\n",
       "   Comorb_Gastro_esophageal_reflux_disease  Concom_Narcotics  \\\n",
       "0                                      0.0               0.0   \n",
       "1                                      0.0               0.0   \n",
       "2                                      1.0               1.0   \n",
       "3                                      0.0               1.0   \n",
       "4                                      0.0               0.0   \n",
       "\n",
       "   Concom_Systemic_Corticosteroids_Plain  Concom_Fluoroquinolones  \\\n",
       "0                                    0.0                      0.0   \n",
       "1                                    0.0                      0.0   \n",
       "2                                    1.0                      0.0   \n",
       "3                                    1.0                      0.0   \n",
       "4                                    0.0                      0.0   \n",
       "\n",
       "   Concom_Cephalosporins  Concom_Macrolides_And_Similar_Types  \\\n",
       "0                    0.0                                  0.0   \n",
       "1                    0.0                                  0.0   \n",
       "2                    0.0                                  0.0   \n",
       "3                    0.0                                  0.0   \n",
       "4                    0.0                                  0.0   \n",
       "\n",
       "   Concom_Broad_Spectrum_Penicillins  Concom_Anaesthetics_General  \\\n",
       "0                                0.0                          0.0   \n",
       "1                                0.0                          0.0   \n",
       "2                                0.0                          0.0   \n",
       "3                                0.0                          0.0   \n",
       "4                                0.0                          0.0   \n",
       "\n",
       "   Concom_Viral_Vaccines  Risk_Osteogenesis_Imperfecta  \\\n",
       "0                    0.0                           0.0   \n",
       "1                    0.0                           0.0   \n",
       "2                    1.0                           0.0   \n",
       "3                    0.0                           0.0   \n",
       "4                    0.0                           0.0   \n",
       "\n",
       "   Risk_Rheumatoid_Arthritis  Risk_Untreated_Chronic_Hypogonadism  \\\n",
       "0                        0.0                                  0.0   \n",
       "1                        0.0                                  0.0   \n",
       "2                        0.0                                  0.0   \n",
       "3                        0.0                                  0.0   \n",
       "4                        0.0                                  0.0   \n",
       "\n",
       "   Risk_Chronic_Liver_Disease  Count_Of_Risks  \n",
       "0                         0.0               0  \n",
       "1                         0.0               0  \n",
       "2                         0.0               1  \n",
       "3                         0.0               1  \n",
       "4                         0.0               2  "
      ]
     },
     "execution_count": 58,
     "metadata": {},
     "output_type": "execute_result"
    }
   ],
   "source": [
    "dfHealthCare.head()"
   ]
  },
  {
   "cell_type": "code",
   "execution_count": 59,
   "id": "8b1f61bb",
   "metadata": {},
   "outputs": [],
   "source": [
    "from sklearn.feature_selection import SelectKBest,mutual_info_classif"
   ]
  },
  {
   "cell_type": "code",
   "execution_count": 60,
   "id": "cb144c99",
   "metadata": {},
   "outputs": [],
   "source": [
    "# select the predictors to be used for the models"
   ]
  },
  {
   "cell_type": "code",
   "execution_count": 61,
   "id": "85445f31",
   "metadata": {},
   "outputs": [],
   "source": [
    "predictors = dfHealthCare.copy()\n",
    "target = predictors[['Persistency_Flag']]\n",
    "predictors = predictors.drop(['Persistency_Flag'],axis=1)"
   ]
  },
  {
   "cell_type": "code",
   "execution_count": 62,
   "id": "58c9485f",
   "metadata": {},
   "outputs": [
    {
     "data": {
      "text/plain": [
       "SelectKBest(score_func=<function mutual_info_classif at 0x00000019D5EE3F70>)"
      ]
     },
     "execution_count": 62,
     "metadata": {},
     "output_type": "execute_result"
    }
   ],
   "source": [
    "predictor_selection = SelectKBest(score_func=mutual_info_classif,k= 10)\n",
    "predictor_selection.fit(predictors , target.values.ravel())"
   ]
  },
  {
   "cell_type": "code",
   "execution_count": 64,
   "id": "c4afe8d1",
   "metadata": {},
   "outputs": [
    {
     "data": {
      "text/html": [
       "<div>\n",
       "<style scoped>\n",
       "    .dataframe tbody tr th:only-of-type {\n",
       "        vertical-align: middle;\n",
       "    }\n",
       "\n",
       "    .dataframe tbody tr th {\n",
       "        vertical-align: top;\n",
       "    }\n",
       "\n",
       "    .dataframe thead th {\n",
       "        text-align: right;\n",
       "    }\n",
       "</style>\n",
       "<table border=\"1\" class=\"dataframe\">\n",
       "  <thead>\n",
       "    <tr style=\"text-align: right;\">\n",
       "      <th></th>\n",
       "      <th>predictor</th>\n",
       "      <th>score</th>\n",
       "    </tr>\n",
       "  </thead>\n",
       "  <tbody>\n",
       "    <tr>\n",
       "      <th>4</th>\n",
       "      <td>Dexa_Freq_During_Rx</td>\n",
       "      <td>0.144784</td>\n",
       "    </tr>\n",
       "    <tr>\n",
       "      <th>5</th>\n",
       "      <td>Dexa_During_Rx</td>\n",
       "      <td>0.126076</td>\n",
       "    </tr>\n",
       "    <tr>\n",
       "      <th>14</th>\n",
       "      <td>Comorb_Long_Term_Current_Drug_Therapy</td>\n",
       "      <td>0.063846</td>\n",
       "    </tr>\n",
       "    <tr>\n",
       "      <th>8</th>\n",
       "      <td>Comorb_Encounter_For_Screening_For_Malignant_N...</td>\n",
       "      <td>0.053421</td>\n",
       "    </tr>\n",
       "    <tr>\n",
       "      <th>9</th>\n",
       "      <td>Comorb_Encounter_For_Immunization</td>\n",
       "      <td>0.050838</td>\n",
       "    </tr>\n",
       "    <tr>\n",
       "      <th>13</th>\n",
       "      <td>Comorb_Encntr_For_Oth_Sp_Exam_W_O_Complaint_Su...</td>\n",
       "      <td>0.037604</td>\n",
       "    </tr>\n",
       "    <tr>\n",
       "      <th>15</th>\n",
       "      <td>Comorb_Dorsalgia</td>\n",
       "      <td>0.037488</td>\n",
       "    </tr>\n",
       "    <tr>\n",
       "      <th>16</th>\n",
       "      <td>Comorb_Personal_History_Of_Other_Diseases_And_...</td>\n",
       "      <td>0.036330</td>\n",
       "    </tr>\n",
       "    <tr>\n",
       "      <th>23</th>\n",
       "      <td>Concom_Cephalosporins</td>\n",
       "      <td>0.036279</td>\n",
       "    </tr>\n",
       "    <tr>\n",
       "      <th>21</th>\n",
       "      <td>Concom_Systemic_Corticosteroids_Plain</td>\n",
       "      <td>0.034796</td>\n",
       "    </tr>\n",
       "    <tr>\n",
       "      <th>27</th>\n",
       "      <td>Concom_Viral_Vaccines</td>\n",
       "      <td>0.031842</td>\n",
       "    </tr>\n",
       "    <tr>\n",
       "      <th>10</th>\n",
       "      <td>Comorb_Encntr_For_General_Exam_W_O_Complaint,_...</td>\n",
       "      <td>0.030915</td>\n",
       "    </tr>\n",
       "    <tr>\n",
       "      <th>17</th>\n",
       "      <td>Comorb_Other_Disorders_Of_Bone_Density_And_Str...</td>\n",
       "      <td>0.028625</td>\n",
       "    </tr>\n",
       "    <tr>\n",
       "      <th>24</th>\n",
       "      <td>Concom_Macrolides_And_Similar_Types</td>\n",
       "      <td>0.028440</td>\n",
       "    </tr>\n",
       "    <tr>\n",
       "      <th>12</th>\n",
       "      <td>Comorb_Other_Joint_Disorder_Not_Elsewhere_Clas...</td>\n",
       "      <td>0.027652</td>\n",
       "    </tr>\n",
       "    <tr>\n",
       "      <th>22</th>\n",
       "      <td>Concom_Fluoroquinolones</td>\n",
       "      <td>0.024275</td>\n",
       "    </tr>\n",
       "    <tr>\n",
       "      <th>26</th>\n",
       "      <td>Concom_Anaesthetics_General</td>\n",
       "      <td>0.023870</td>\n",
       "    </tr>\n",
       "    <tr>\n",
       "      <th>19</th>\n",
       "      <td>Comorb_Gastro_esophageal_reflux_disease</td>\n",
       "      <td>0.022464</td>\n",
       "    </tr>\n",
       "    <tr>\n",
       "      <th>20</th>\n",
       "      <td>Concom_Narcotics</td>\n",
       "      <td>0.018611</td>\n",
       "    </tr>\n",
       "    <tr>\n",
       "      <th>3</th>\n",
       "      <td>Gluco_Record_During_Rx</td>\n",
       "      <td>0.017366</td>\n",
       "    </tr>\n",
       "    <tr>\n",
       "      <th>25</th>\n",
       "      <td>Concom_Broad_Spectrum_Penicillins</td>\n",
       "      <td>0.017104</td>\n",
       "    </tr>\n",
       "    <tr>\n",
       "      <th>11</th>\n",
       "      <td>Comorb_Vitamin_D_Deficiency</td>\n",
       "      <td>0.015604</td>\n",
       "    </tr>\n",
       "    <tr>\n",
       "      <th>2</th>\n",
       "      <td>Age_Bucket</td>\n",
       "      <td>0.014913</td>\n",
       "    </tr>\n",
       "    <tr>\n",
       "      <th>18</th>\n",
       "      <td>Comorb_Personal_history_of_malignant_neoplasm</td>\n",
       "      <td>0.008589</td>\n",
       "    </tr>\n",
       "    <tr>\n",
       "      <th>7</th>\n",
       "      <td>Adherent_Flag</td>\n",
       "      <td>0.007219</td>\n",
       "    </tr>\n",
       "    <tr>\n",
       "      <th>6</th>\n",
       "      <td>Frag_Frac_During_Rx</td>\n",
       "      <td>0.007097</td>\n",
       "    </tr>\n",
       "    <tr>\n",
       "      <th>28</th>\n",
       "      <td>Risk_Osteogenesis_Imperfecta</td>\n",
       "      <td>0.004744</td>\n",
       "    </tr>\n",
       "    <tr>\n",
       "      <th>0</th>\n",
       "      <td>Race</td>\n",
       "      <td>0.004436</td>\n",
       "    </tr>\n",
       "    <tr>\n",
       "      <th>32</th>\n",
       "      <td>Count_Of_Risks</td>\n",
       "      <td>0.004046</td>\n",
       "    </tr>\n",
       "    <tr>\n",
       "      <th>1</th>\n",
       "      <td>Region</td>\n",
       "      <td>0.003076</td>\n",
       "    </tr>\n",
       "    <tr>\n",
       "      <th>31</th>\n",
       "      <td>Risk_Chronic_Liver_Disease</td>\n",
       "      <td>0.002994</td>\n",
       "    </tr>\n",
       "    <tr>\n",
       "      <th>29</th>\n",
       "      <td>Risk_Rheumatoid_Arthritis</td>\n",
       "      <td>0.000000</td>\n",
       "    </tr>\n",
       "    <tr>\n",
       "      <th>30</th>\n",
       "      <td>Risk_Untreated_Chronic_Hypogonadism</td>\n",
       "      <td>0.000000</td>\n",
       "    </tr>\n",
       "  </tbody>\n",
       "</table>\n",
       "</div>"
      ],
      "text/plain": [
       "                                            predictor     score\n",
       "4                                 Dexa_Freq_During_Rx  0.144784\n",
       "5                                      Dexa_During_Rx  0.126076\n",
       "14              Comorb_Long_Term_Current_Drug_Therapy  0.063846\n",
       "8   Comorb_Encounter_For_Screening_For_Malignant_N...  0.053421\n",
       "9                   Comorb_Encounter_For_Immunization  0.050838\n",
       "13  Comorb_Encntr_For_Oth_Sp_Exam_W_O_Complaint_Su...  0.037604\n",
       "15                                   Comorb_Dorsalgia  0.037488\n",
       "16  Comorb_Personal_History_Of_Other_Diseases_And_...  0.036330\n",
       "23                              Concom_Cephalosporins  0.036279\n",
       "21              Concom_Systemic_Corticosteroids_Plain  0.034796\n",
       "27                              Concom_Viral_Vaccines  0.031842\n",
       "10  Comorb_Encntr_For_General_Exam_W_O_Complaint,_...  0.030915\n",
       "17  Comorb_Other_Disorders_Of_Bone_Density_And_Str...  0.028625\n",
       "24                Concom_Macrolides_And_Similar_Types  0.028440\n",
       "12  Comorb_Other_Joint_Disorder_Not_Elsewhere_Clas...  0.027652\n",
       "22                            Concom_Fluoroquinolones  0.024275\n",
       "26                        Concom_Anaesthetics_General  0.023870\n",
       "19            Comorb_Gastro_esophageal_reflux_disease  0.022464\n",
       "20                                   Concom_Narcotics  0.018611\n",
       "3                              Gluco_Record_During_Rx  0.017366\n",
       "25                  Concom_Broad_Spectrum_Penicillins  0.017104\n",
       "11                        Comorb_Vitamin_D_Deficiency  0.015604\n",
       "2                                          Age_Bucket  0.014913\n",
       "18      Comorb_Personal_history_of_malignant_neoplasm  0.008589\n",
       "7                                       Adherent_Flag  0.007219\n",
       "6                                 Frag_Frac_During_Rx  0.007097\n",
       "28                       Risk_Osteogenesis_Imperfecta  0.004744\n",
       "0                                                Race  0.004436\n",
       "32                                     Count_Of_Risks  0.004046\n",
       "1                                              Region  0.003076\n",
       "31                         Risk_Chronic_Liver_Disease  0.002994\n",
       "29                          Risk_Rheumatoid_Arthritis  0.000000\n",
       "30                Risk_Untreated_Chronic_Hypogonadism  0.000000"
      ]
     },
     "execution_count": 64,
     "metadata": {},
     "output_type": "execute_result"
    }
   ],
   "source": [
    "predictor_columns=predictors.columns\n",
    "predictor_list = []\n",
    "for i in range(len(predictor_selection.scores_)):\n",
    "    predictor_list.append([predictor_columns[i],predictor_selection.scores_[i]])\n",
    "dfPredictors = pd.DataFrame(predictor_list)\n",
    "dfPredictors = dfPredictors.sort_values(1,ascending=False)\n",
    "dfPredictors.columns = ['predictor','score']\n",
    "dfPredictors"
   ]
  },
  {
   "cell_type": "code",
   "execution_count": 105,
   "id": "6e635951",
   "metadata": {},
   "outputs": [],
   "source": [
    "# choose the columns whose score is higher than 0.01\n",
    "\n",
    "signif_predictors = dfPredictors[\"predictor\"][0:23].tolist()"
   ]
  },
  {
   "cell_type": "code",
   "execution_count": 106,
   "id": "cbfadeed",
   "metadata": {},
   "outputs": [
    {
     "data": {
      "text/plain": [
       "['Dexa_Freq_During_Rx',\n",
       " 'Dexa_During_Rx',\n",
       " 'Comorb_Long_Term_Current_Drug_Therapy',\n",
       " 'Comorb_Encounter_For_Screening_For_Malignant_Neoplasms',\n",
       " 'Comorb_Encounter_For_Immunization',\n",
       " 'Comorb_Encntr_For_Oth_Sp_Exam_W_O_Complaint_Suspected_Or_Reprtd_Dx',\n",
       " 'Comorb_Dorsalgia',\n",
       " 'Comorb_Personal_History_Of_Other_Diseases_And_Conditions',\n",
       " 'Concom_Cephalosporins',\n",
       " 'Concom_Systemic_Corticosteroids_Plain',\n",
       " 'Concom_Viral_Vaccines',\n",
       " 'Comorb_Encntr_For_General_Exam_W_O_Complaint,_Susp_Or_Reprtd_Dx',\n",
       " 'Comorb_Other_Disorders_Of_Bone_Density_And_Structure',\n",
       " 'Concom_Macrolides_And_Similar_Types',\n",
       " 'Comorb_Other_Joint_Disorder_Not_Elsewhere_Classified',\n",
       " 'Concom_Fluoroquinolones',\n",
       " 'Concom_Anaesthetics_General',\n",
       " 'Comorb_Gastro_esophageal_reflux_disease',\n",
       " 'Concom_Narcotics',\n",
       " 'Gluco_Record_During_Rx',\n",
       " 'Concom_Broad_Spectrum_Penicillins',\n",
       " 'Comorb_Vitamin_D_Deficiency',\n",
       " 'Age_Bucket']"
      ]
     },
     "execution_count": 106,
     "metadata": {},
     "output_type": "execute_result"
    }
   ],
   "source": [
    "signif_predictors"
   ]
  },
  {
   "cell_type": "code",
   "execution_count": 107,
   "id": "75af6e97",
   "metadata": {},
   "outputs": [],
   "source": [
    "DfSignifPredictors = predictors[signif_predictors]"
   ]
  },
  {
   "cell_type": "code",
   "execution_count": 70,
   "id": "21a34334",
   "metadata": {},
   "outputs": [],
   "source": [
    "from sklearn.model_selection import train_test_split"
   ]
  },
  {
   "cell_type": "code",
   "execution_count": 108,
   "id": "17bf1da7",
   "metadata": {},
   "outputs": [],
   "source": [
    "# Train-Test Split\n",
    "\n",
    "X_train, X_test,y_train, y_test = train_test_split(DfSignifPredictors,target,train_size = 0.7, random_state = 11)"
   ]
  },
  {
   "cell_type": "markdown",
   "id": "90def423",
   "metadata": {},
   "source": [
    "# _10.2. Model Selection, Building and Comparison_"
   ]
  },
  {
   "cell_type": "markdown",
   "id": "ca6149ca",
   "metadata": {},
   "source": [
    "## Two Models were chosen: Logistic Regression and Random Forest"
   ]
  },
  {
   "cell_type": "markdown",
   "id": "9501b7c1",
   "metadata": {},
   "source": [
    "# 1. Logistic Regression"
   ]
  },
  {
   "cell_type": "code",
   "execution_count": 121,
   "id": "e8da5343",
   "metadata": {},
   "outputs": [],
   "source": [
    "# Logistic Regression\n",
    "from sklearn.linear_model import LogisticRegression\n",
    "from sklearn.model_selection import cross_val_score\n",
    "perfList = []\n"
   ]
  },
  {
   "cell_type": "code",
   "execution_count": 122,
   "id": "658d0891",
   "metadata": {},
   "outputs": [
    {
     "name": "stdout",
     "output_type": "stream",
     "text": [
      "Mean ROC AUC for Logistic Regression Model 0.8737409206880542\n"
     ]
    }
   ],
   "source": [
    "logRegModel = LogisticRegression()\n",
    "logRegModel.fit(X_train, y_train.values.ravel())\n",
    "scores = cross_val_score(logRegModel,X_train,y_train.values.ravel(), scoring='roc_auc', cv=15)\n",
    "perfList.append(['Logistic Regression',np.mean(scores)])\n",
    "print('Mean ROC AUC for Logistic Regression Model',np.mean(scores))"
   ]
  },
  {
   "cell_type": "markdown",
   "id": "571f9c4a",
   "metadata": {},
   "source": [
    "# 2. Random Forest"
   ]
  },
  {
   "cell_type": "code",
   "execution_count": 111,
   "id": "576f01fd",
   "metadata": {},
   "outputs": [],
   "source": [
    "from sklearn.ensemble import RandomForestClassifier"
   ]
  },
  {
   "cell_type": "code",
   "execution_count": 113,
   "id": "2383f82f",
   "metadata": {},
   "outputs": [
    {
     "name": "stdout",
     "output_type": "stream",
     "text": [
      "Mean ROC AUC 0.8573532201394971\n"
     ]
    }
   ],
   "source": [
    "randForModel = RandomForestClassifier(n_estimators= 500)\n",
    "randForModel.fit(X_train, y_train.values.ravel())\n",
    "scores = cross_val_score(randForModel,X_train,y_train.values.ravel(), scoring='roc_auc', cv=15)\n",
    "perfList.append(['Random Forest',np.mean(scores)])\n",
    "print('Mean ROC AUC',np.mean(scores))"
   ]
  },
  {
   "cell_type": "markdown",
   "id": "e4cabb7d",
   "metadata": {},
   "source": [
    "## Hyperparameter Tuning"
   ]
  },
  {
   "cell_type": "code",
   "execution_count": 3,
   "id": "c34d3657",
   "metadata": {},
   "outputs": [],
   "source": [
    "n_estimators = [int(x) for x in np.linspace(start = 100, stop = 3000, num = 20)]\n",
    "max_features = ['auto', 'sqrt']\n",
    "max_depth = [int(x) for x in np.linspace(10, 110, num = 11)]\n",
    "min_samples_split = [2, 5, 10,20]\n",
    "min_samples_leaf = [1, 2, 4,8]\n",
    "bootstrap = [True, False]\n",
    "\n",
    "# Build the random grid\n",
    "random_grid = {'n_estimators': n_estimators,\n",
    "               'max_features': max_features,\n",
    "               'max_depth': max_depth,\n",
    "               'min_samples_split': min_samples_split,\n",
    "               'min_samples_leaf': min_samples_leaf,\n",
    "               'bootstrap': bootstrap}"
   ]
  },
  {
   "cell_type": "code",
   "execution_count": 115,
   "id": "e59bb408",
   "metadata": {},
   "outputs": [],
   "source": [
    "from sklearn.model_selection import RandomizedSearchCV"
   ]
  },
  {
   "cell_type": "code",
   "execution_count": 116,
   "id": "054523df",
   "metadata": {},
   "outputs": [
    {
     "name": "stdout",
     "output_type": "stream",
     "text": [
      "Fitting 3 folds for each of 100 candidates, totalling 300 fits\n"
     ]
    },
    {
     "data": {
      "text/plain": [
       "RandomizedSearchCV(cv=3, estimator=RandomForestClassifier(), n_iter=100,\n",
       "                   n_jobs=-1,\n",
       "                   param_distributions={'bootstrap': [True, False],\n",
       "                                        'max_depth': [10, 20, 30, 40, 50, 60,\n",
       "                                                      70, 80, 90, 100, 110,\n",
       "                                                      None],\n",
       "                                        'max_features': ['auto', 'sqrt'],\n",
       "                                        'min_samples_leaf': [1, 2, 4, 8],\n",
       "                                        'min_samples_split': [2, 5, 10, 20],\n",
       "                                        'n_estimators': [100, 252, 405, 557,\n",
       "                                                         710, 863, 1015, 1168,\n",
       "                                                         1321, 1473, 1626, 1778,\n",
       "                                                         1931, 2084, 2236, 2389,\n",
       "                                                         2542, 2694, 2847,\n",
       "                                                         3000]},\n",
       "                   random_state=42, verbose=2)"
      ]
     },
     "execution_count": 116,
     "metadata": {},
     "output_type": "execute_result"
    }
   ],
   "source": [
    "randForModel = RandomForestClassifier()\n",
    "\n",
    "rand1ForModel = RandomizedSearchCV(estimator = randForModel, param_distributions = random_grid, n_iter = 100, cv = 3, verbose=2, random_state=42, n_jobs = -1)\n",
    "\n",
    "rand1ForModel.fit(X_train, y_train.values.ravel())\n"
   ]
  },
  {
   "cell_type": "code",
   "execution_count": 117,
   "id": "152cf2f9",
   "metadata": {},
   "outputs": [
    {
     "data": {
      "text/plain": [
       "{'n_estimators': 1168,\n",
       " 'min_samples_split': 5,\n",
       " 'min_samples_leaf': 4,\n",
       " 'max_features': 'auto',\n",
       " 'max_depth': 50,\n",
       " 'bootstrap': True}"
      ]
     },
     "execution_count": 117,
     "metadata": {},
     "output_type": "execute_result"
    }
   ],
   "source": [
    "rand1ForModel.best_params_"
   ]
  },
  {
   "cell_type": "code",
   "execution_count": 118,
   "id": "3bc31e7a",
   "metadata": {},
   "outputs": [],
   "source": [
    "randFor = RandomForestClassifier(n_estimators= 1200,min_samples_split = 5,min_samples_leaf=4,max_features='auto',max_depth =50, bootstrap = True)\n",
    "randFor.fit(X_train, y_train.values.ravel())\n",
    "output = randFor.predict(X_test)"
   ]
  },
  {
   "cell_type": "code",
   "execution_count": 119,
   "id": "aa35d4fa",
   "metadata": {},
   "outputs": [],
   "source": [
    "scores = cross_val_score(randFor,X_train,y_train.values.ravel(), scoring='roc_auc', cv=25)"
   ]
  },
  {
   "cell_type": "code",
   "execution_count": 120,
   "id": "7af7e3c2",
   "metadata": {},
   "outputs": [
    {
     "name": "stdout",
     "output_type": "stream",
     "text": [
      "Mean ROC AUC 0.8757755283931755\n"
     ]
    }
   ],
   "source": [
    "print('Mean ROC AUC',np.mean(scores))"
   ]
  },
  {
   "cell_type": "markdown",
   "id": "9d2ea341",
   "metadata": {},
   "source": [
    "### Confusion matrix and Classification Report"
   ]
  },
  {
   "cell_type": "code",
   "execution_count": 126,
   "id": "636e62b0",
   "metadata": {},
   "outputs": [],
   "source": [
    "from sklearn.metrics import confusion_matrix, classification_report"
   ]
  },
  {
   "cell_type": "code",
   "execution_count": 127,
   "id": "00332987",
   "metadata": {},
   "outputs": [
    {
     "name": "stdout",
     "output_type": "stream",
     "text": [
      "[[528  67]\n",
      " [120 246]]\n"
     ]
    }
   ],
   "source": [
    "# conf Mrx\n",
    "\n",
    "confMrx = confusion_matrix(y_test,output)\n",
    "print(confMrx)"
   ]
  },
  {
   "cell_type": "code",
   "execution_count": 129,
   "id": "1b5f74d2",
   "metadata": {},
   "outputs": [
    {
     "name": "stdout",
     "output_type": "stream",
     "text": [
      "              precision    recall  f1-score   support\n",
      "\n",
      "         0.0       0.81      0.89      0.85       595\n",
      "         1.0       0.79      0.67      0.72       366\n",
      "\n",
      "    accuracy                           0.81       961\n",
      "   macro avg       0.80      0.78      0.79       961\n",
      "weighted avg       0.80      0.81      0.80       961\n",
      "\n"
     ]
    }
   ],
   "source": [
    "# class Rep\n",
    "\n",
    "classRep = classification_report(y_test,output)\n",
    "print(classRep)"
   ]
  },
  {
   "cell_type": "markdown",
   "id": "4be31843",
   "metadata": {},
   "source": [
    "### f1 Score"
   ]
  },
  {
   "cell_type": "code",
   "execution_count": 131,
   "id": "f6bf066a",
   "metadata": {},
   "outputs": [],
   "source": [
    "from sklearn.metrics import f1_score"
   ]
  },
  {
   "cell_type": "code",
   "execution_count": 132,
   "id": "d46d244a",
   "metadata": {},
   "outputs": [
    {
     "name": "stdout",
     "output_type": "stream",
     "text": [
      "F1 score: 0.7245949926362297\n"
     ]
    }
   ],
   "source": [
    "f1Score = f1_score(y_test,output) \n",
    "print('F1 score:',f1Score)"
   ]
  },
  {
   "cell_type": "markdown",
   "id": "f989a639",
   "metadata": {},
   "source": [
    "# for LogReg Model"
   ]
  },
  {
   "cell_type": "code",
   "execution_count": 133,
   "id": "d53f664c",
   "metadata": {},
   "outputs": [],
   "source": [
    "logRegModel = LogisticRegression()\n",
    "logRegModel.fit(X_train, y_train.values.ravel())\n",
    "output = logRegModel.predict(X_test)"
   ]
  },
  {
   "cell_type": "code",
   "execution_count": 135,
   "id": "0ec1382d",
   "metadata": {},
   "outputs": [
    {
     "name": "stdout",
     "output_type": "stream",
     "text": [
      "[[515  80]\n",
      " [114 252]]\n"
     ]
    }
   ],
   "source": [
    "# conf Mrx\n",
    "\n",
    "confMrx = confusion_matrix(y_test,output)\n",
    "print(confMrx)"
   ]
  },
  {
   "cell_type": "code",
   "execution_count": 136,
   "id": "73e15c14",
   "metadata": {},
   "outputs": [
    {
     "name": "stdout",
     "output_type": "stream",
     "text": [
      "              precision    recall  f1-score   support\n",
      "\n",
      "         0.0       0.82      0.87      0.84       595\n",
      "         1.0       0.76      0.69      0.72       366\n",
      "\n",
      "    accuracy                           0.80       961\n",
      "   macro avg       0.79      0.78      0.78       961\n",
      "weighted avg       0.80      0.80      0.80       961\n",
      "\n"
     ]
    }
   ],
   "source": [
    "classRep = classification_report(y_test,output)\n",
    "print(classRep)"
   ]
  },
  {
   "cell_type": "code",
   "execution_count": 137,
   "id": "d4af52eb",
   "metadata": {},
   "outputs": [
    {
     "name": "stdout",
     "output_type": "stream",
     "text": [
      "F1 score: 0.7220630372492837\n"
     ]
    }
   ],
   "source": [
    "f1Score = f1_score(y_test,output) \n",
    "print('F1 score:',f1Score)"
   ]
  },
  {
   "cell_type": "markdown",
   "id": "bce654d6",
   "metadata": {},
   "source": [
    "# _10.3. Result_"
   ]
  },
  {
   "cell_type": "markdown",
   "id": "26b53fcf",
   "metadata": {},
   "source": [
    "## Random Forest Model performed better than Logistic Regression Model."
   ]
  },
  {
   "cell_type": "markdown",
   "id": "dcb8579d",
   "metadata": {},
   "source": [
    "---\n",
    "---\n",
    "---"
   ]
  }
 ],
 "metadata": {
  "kernelspec": {
   "display_name": "Python 3 (ipykernel)",
   "language": "python",
   "name": "python3"
  },
  "language_info": {
   "codemirror_mode": {
    "name": "ipython",
    "version": 3
   },
   "file_extension": ".py",
   "mimetype": "text/x-python",
   "name": "python",
   "nbconvert_exporter": "python",
   "pygments_lexer": "ipython3",
   "version": "3.8.11"
  }
 },
 "nbformat": 4,
 "nbformat_minor": 5
}
