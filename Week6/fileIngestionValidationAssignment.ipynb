{
 "cells": [
  {
   "cell_type": "markdown",
   "id": "69f5581f",
   "metadata": {},
   "source": [
    "# **File Ingestion and Schema Validation Assignment**\n",
    "\n",
    "## **1. Write a Utility File**\n",
    "\n",
    "## **2. Write a Yaml File**\n",
    "\n",
    "## **3. File Validation Necessities**\n",
    "\n",
    "## **4. Read File with Different Methods**\n",
    "\n",
    "### **4a. Via Pandas**\n",
    "### **4b. Via Modin**\n",
    "### **4c. Via Vaex**\n",
    "\n",
    "\n",
    "## **5. Validation and Summary**"
   ]
  },
  {
   "cell_type": "markdown",
   "id": "79e3753f",
   "metadata": {},
   "source": [
    "## **1. Write a Utility File**"
   ]
  },
  {
   "cell_type": "code",
   "execution_count": 198,
   "id": "9733b95b",
   "metadata": {},
   "outputs": [
    {
     "name": "stdout",
     "output_type": "stream",
     "text": [
      "Writing testutility0.py\n"
     ]
    }
   ],
   "source": [
    "%%writefile testutility0.py\n",
    "import logging\n",
    "import os\n",
    "import subprocess\n",
    "import yaml\n",
    "import pandas as pd\n",
    "import datetime \n",
    "import gc\n",
    "import re\n",
    "\n",
    "\n",
    "################\n",
    "# File Reading #\n",
    "################\n",
    "\n",
    "def read_config_file(filepath):\n",
    "    with open(filepath, 'r') as stream:\n",
    "        try:\n",
    "            return yaml.safe_load(stream)\n",
    "        except yaml.YAMLError as exc:\n",
    "            logging.error(exc)\n",
    "\n",
    "\n",
    "def replacer(string, char):\n",
    "    pattern = char + '{2,}'\n",
    "    string = re.sub(pattern, char, string) \n",
    "    return string\n",
    "\n",
    "def col_header_val(df,table_config):\n",
    "\n",
    "    df.columns = [col.lower() for col in df.get_column_names()]\n",
    "    df.columns = list(map(lambda x: x.strip('_'), df.columns))\n",
    "    df.columns = list(map(lambda x: replacer(x,'_'), df.columns))\n",
    "    expected_col = list(map(lambda x: x.lower(),  list(table_config['columns'])))\n",
    "    expected_col.sort()\n",
    "    df.columns.sort()\n",
    "    df.columns =list(map(lambda x: x.lower(), df.columns))\n",
    "    \n",
    "    if len(df.columns) == len(expected_col) and list(expected_col)  == list(df.columns):\n",
    "        print(\"column name and column length validation passed\")\n",
    "        return 1\n",
    "    else:\n",
    "        print(\"column name and column length validation failed\")\n",
    "        mismatched_columns_file = list(set(df.columns).difference(expected_col))\n",
    "        print(\"Following File columns are not in the YAML file\",mismatched_columns_file)\n",
    "        missing_YAML_file = list(set(expected_col).difference(df.columns))\n",
    "        print(\"Following YAML columns are not in the file uploaded\",missing_YAML_file)\n",
    "        logging.info(f'df columns: {df.columns}')\n",
    "        logging.info(f'expected columns: {expected_col}')\n",
    "        return 0"
   ]
  },
  {
   "cell_type": "markdown",
   "id": "0ae73636",
   "metadata": {},
   "source": [
    "## **2. Write a Yaml File**"
   ]
  },
  {
   "cell_type": "code",
   "execution_count": 199,
   "id": "e0f7124f",
   "metadata": {},
   "outputs": [
    {
     "name": "stdout",
     "output_type": "stream",
     "text": [
      "Overwriting file.yaml\n"
     ]
    }
   ],
   "source": [
    "%%writefile file.yaml\n",
    "file_type: csv\n",
    "dataset_name: ParkingViolations\n",
    "file_name: Parking_Violations_2015\n",
    "table_name: tableOne\n",
    "inbound_delimiter: \",\"\n",
    "outbound_delimiter: \"|\"\n",
    "skip_leading_rows: 1\n",
    "columns: \n",
    "    - Summons Number\n",
    "    - Plate ID\n",
    "    - Registration State\n",
    "    - Plate Type\n",
    "    - Issue Date\n",
    "    - Violation Code\n",
    "    - Vehicle Body Type\n",
    "    - Vehicle Make\n",
    "    - Issuing Agency\n",
    "    - Street Code1\n",
    "    - Street Code2\n",
    "    - Street Code3\n",
    "    - Vehicle Expiration Date\n",
    "    - Violation Location\n",
    "    - Violation Precinct\n",
    "    - Issuer Precinct\n",
    "    - Issuer Code\n",
    "    - Issuer Command\n",
    "    - Issuer Squad\n",
    "    - Violation Time\n",
    "    - Time First Observed\n",
    "    - Violation County\n",
    "    - Violation In Front Of Or Opposite\n",
    "    - House Number\n",
    "    - Street Name\n",
    "    - Intersecting Street\n",
    "    - Date First Observed\n",
    "    - Law Section\n",
    "    - Sub Division\n",
    "    - Violation Legal Code\n",
    "    - Days Parking In Effect\n",
    "    - From Hours In Effect\n",
    "    - To Hours In Effect\n",
    "    - Vehicle Color\n",
    "    - Unregistered Vehicle?\n",
    "    - Vehicle Year\n",
    "    - Meter Number\n",
    "    - Feet From Curb\n",
    "    - Violation Post Code\n",
    "    - Violation Description\n",
    "    - No Standing or Stopping Violation\n",
    "    - Hydrant Violation\n",
    "    - Double Parking Violation\n",
    "    - Latitude\n",
    "    - Longitude\n",
    "    - Community Board\n",
    "    - Community Council\n",
    "    - Census Tract\n",
    "    - BIN\n",
    "    - BBL\n",
    "    - NTA"
   ]
  },
  {
   "cell_type": "markdown",
   "id": "db39bec7",
   "metadata": {},
   "source": [
    "## **3. File Validation**"
   ]
  },
  {
   "cell_type": "code",
   "execution_count": 200,
   "id": "3b26557d",
   "metadata": {},
   "outputs": [],
   "source": [
    "# Read config file\n",
    "import testutility0 as util\n",
    "config_data = util.read_config_file(\"file.yaml\")"
   ]
  },
  {
   "cell_type": "code",
   "execution_count": 201,
   "id": "f114af46",
   "metadata": {},
   "outputs": [
    {
     "data": {
      "text/plain": [
       "OrderedDict([('file_type', 'csv'),\n",
       "             ('dataset_name', 'ParkingViolations'),\n",
       "             ('file_name', 'Parking_Violations_2015'),\n",
       "             ('table_name', 'tableOne'),\n",
       "             ('inbound_delimiter', ','),\n",
       "             ('outbound_delimiter', '|'),\n",
       "             ('skip_leading_rows', 1),\n",
       "             ('columns',\n",
       "              ['Summons Number',\n",
       "               'Plate ID',\n",
       "               'Registration State',\n",
       "               'Plate Type',\n",
       "               'Issue Date',\n",
       "               'Violation Code',\n",
       "               'Vehicle Body Type',\n",
       "               'Vehicle Make',\n",
       "               'Issuing Agency',\n",
       "               'Street Code1',\n",
       "               'Street Code2',\n",
       "               'Street Code3',\n",
       "               'Vehicle Expiration Date',\n",
       "               'Violation Location',\n",
       "               'Violation Precinct',\n",
       "               'Issuer Precinct',\n",
       "               'Issuer Code',\n",
       "               'Issuer Command',\n",
       "               'Issuer Squad',\n",
       "               'Violation Time',\n",
       "               'Time First Observed',\n",
       "               'Violation County',\n",
       "               'Violation In Front Of Or Opposite',\n",
       "               'House Number',\n",
       "               'Street Name',\n",
       "               'Intersecting Street',\n",
       "               'Date First Observed',\n",
       "               'Law Section',\n",
       "               'Sub Division',\n",
       "               'Violation Legal Code',\n",
       "               'Days Parking In Effect',\n",
       "               'From Hours In Effect',\n",
       "               'To Hours In Effect',\n",
       "               'Vehicle Color',\n",
       "               'Unregistered Vehicle?',\n",
       "               'Vehicle Year',\n",
       "               'Meter Number',\n",
       "               'Feet From Curb',\n",
       "               'Violation Post Code',\n",
       "               'Violation Description',\n",
       "               'No Standing or Stopping Violation',\n",
       "               'Hydrant Violation',\n",
       "               'Double Parking Violation',\n",
       "               'Latitude',\n",
       "               'Longitude',\n",
       "               'Community Board',\n",
       "               'Community Council',\n",
       "               'Census Tract',\n",
       "               'BIN',\n",
       "               'BBL',\n",
       "               'NTA'])])"
      ]
     },
     "execution_count": 201,
     "metadata": {},
     "output_type": "execute_result"
    }
   ],
   "source": [
    "#inspecting data of config file\n",
    "config_data"
   ]
  },
  {
   "cell_type": "markdown",
   "id": "b9d52fcc",
   "metadata": {},
   "source": [
    "## **4. Read File with Different Methods**\n"
   ]
  },
  {
   "cell_type": "markdown",
   "id": "1dd8f0cd",
   "metadata": {},
   "source": [
    "### **4a. Via Pandas**"
   ]
  },
  {
   "cell_type": "code",
   "execution_count": null,
   "id": "79d7ab20",
   "metadata": {},
   "outputs": [],
   "source": [
    "%%timeit\n",
    "# read the file using config file (via pandas)\n",
    "file_type = config_data['file_type']\n",
    "source_file = \"./\" + config_data['file_name'] + f'.{file_type}'\n",
    "#print(\"\",source_file)\n",
    "import pandas as pd\n",
    "df = pd.read_csv(source_file,config_data['inbound_delimiter'])"
   ]
  },
  {
   "cell_type": "markdown",
   "id": "484dbd71",
   "metadata": {},
   "source": [
    "## **Result: The file could not be read via Pandas because of memory (scalability) issues. We should try another method.**"
   ]
  },
  {
   "cell_type": "markdown",
   "id": "37f71a5f",
   "metadata": {},
   "source": [
    "### **4b. Via Modin**"
   ]
  },
  {
   "cell_type": "code",
   "execution_count": 1,
   "id": "e00d07e3",
   "metadata": {},
   "outputs": [
    {
     "name": "stdout",
     "output_type": "stream",
     "text": [
      "Collecting modin[ray]\n",
      "  Downloading modin-0.11.2-py3-none-win_amd64.whl (731 kB)\n",
      "Requirement already satisfied: numpy>=1.16.5 in c:\\users\\tolgayaz91\\anaconda3\\lib\\site-packages (from modin[ray]) (1.19.5)\n",
      "Collecting pandas==1.3.4\n",
      "  Downloading pandas-1.3.4-cp38-cp38-win_amd64.whl (10.2 MB)\n",
      "Requirement already satisfied: packaging in c:\\users\\tolgayaz91\\anaconda3\\lib\\site-packages (from modin[ray]) (21.0)\n",
      "Collecting pyarrow>=1.0\n",
      "  Downloading pyarrow-6.0.0-cp38-cp38-win_amd64.whl (15.5 MB)\n",
      "Collecting ray[default]>=1.4.0\n",
      "  Downloading ray-1.7.0-cp38-cp38-win_amd64.whl (18.1 MB)\n",
      "Requirement already satisfied: python-dateutil>=2.7.3 in c:\\users\\tolgayaz91\\anaconda3\\lib\\site-packages (from pandas==1.3.4->modin[ray]) (2.8.2)\n",
      "Requirement already satisfied: pytz>=2017.3 in c:\\users\\tolgayaz91\\anaconda3\\lib\\site-packages (from pandas==1.3.4->modin[ray]) (2021.3)\n",
      "Requirement already satisfied: six>=1.5 in c:\\users\\tolgayaz91\\anaconda3\\lib\\site-packages (from python-dateutil>=2.7.3->pandas==1.3.4->modin[ray]) (1.15.0)\n",
      "Requirement already satisfied: attrs in c:\\users\\tolgayaz91\\anaconda3\\lib\\site-packages (from ray[default]>=1.4.0->modin[ray]) (21.2.0)\n",
      "Requirement already satisfied: protobuf>=3.15.3 in c:\\users\\tolgayaz91\\anaconda3\\lib\\site-packages (from ray[default]>=1.4.0->modin[ray]) (3.17.3)\n",
      "Requirement already satisfied: grpcio>=1.28.1 in c:\\users\\tolgayaz91\\anaconda3\\lib\\site-packages (from ray[default]>=1.4.0->modin[ray]) (1.40.0)\n",
      "Requirement already satisfied: pyyaml in c:\\users\\tolgayaz91\\anaconda3\\lib\\site-packages (from ray[default]>=1.4.0->modin[ray]) (5.4.1)\n",
      "Requirement already satisfied: msgpack<2.0.0,>=1.0.0 in c:\\users\\tolgayaz91\\anaconda3\\lib\\site-packages (from ray[default]>=1.4.0->modin[ray]) (1.0.2)\n",
      "Collecting redis>=3.5.0\n",
      "  Downloading redis-3.5.3-py2.py3-none-any.whl (72 kB)\n",
      "Requirement already satisfied: click>=7.0 in c:\\users\\tolgayaz91\\anaconda3\\lib\\site-packages (from ray[default]>=1.4.0->modin[ray]) (8.0.1)\n",
      "Requirement already satisfied: filelock in c:\\users\\tolgayaz91\\anaconda3\\lib\\site-packages (from ray[default]>=1.4.0->modin[ray]) (3.0.12)\n",
      "Collecting aiohttp\n",
      "  Downloading aiohttp-3.8.0-cp38-cp38-win_amd64.whl (572 kB)\n",
      "Collecting aiohttp-cors\n",
      "  Downloading aiohttp_cors-0.7.0-py3-none-any.whl (27 kB)\n",
      "Collecting gpustat\n",
      "  Downloading gpustat-0.6.0.tar.gz (78 kB)\n",
      "Collecting py-spy>=0.2.0\n",
      "  Downloading py_spy-0.3.10-py2.py3-none-win_amd64.whl (1.4 MB)\n",
      "Collecting colorful\n",
      "  Downloading colorful-0.5.4-py2.py3-none-any.whl (201 kB)\n",
      "Requirement already satisfied: jsonschema in c:\\users\\tolgayaz91\\anaconda3\\lib\\site-packages (from ray[default]>=1.4.0->modin[ray]) (3.2.0)\n",
      "Collecting opencensus\n",
      "  Downloading opencensus-0.8.0-py2.py3-none-any.whl (128 kB)\n",
      "Requirement already satisfied: requests in c:\\users\\tolgayaz91\\anaconda3\\lib\\site-packages (from ray[default]>=1.4.0->modin[ray]) (2.26.0)\n",
      "Requirement already satisfied: prometheus-client>=0.7.1 in c:\\users\\tolgayaz91\\anaconda3\\lib\\site-packages (from ray[default]>=1.4.0->modin[ray]) (0.11.0)\n",
      "Collecting aioredis<2\n",
      "  Downloading aioredis-1.3.1-py3-none-any.whl (65 kB)\n",
      "Collecting hiredis\n",
      "  Downloading hiredis-2.0.0-cp38-cp38-win_amd64.whl (18 kB)\n",
      "Collecting async-timeout\n",
      "  Downloading async_timeout-4.0.0-py3-none-any.whl (6.1 kB)\n",
      "Requirement already satisfied: colorama in c:\\users\\tolgayaz91\\anaconda3\\lib\\site-packages (from click>=7.0->ray[default]>=1.4.0->modin[ray]) (0.4.4)\n",
      "Requirement already satisfied: charset-normalizer<3.0,>=2.0 in c:\\users\\tolgayaz91\\anaconda3\\lib\\site-packages (from aiohttp->ray[default]>=1.4.0->modin[ray]) (2.0.4)\n",
      "Collecting aiosignal>=1.1.2\n",
      "  Downloading aiosignal-1.2.0-py3-none-any.whl (8.2 kB)\n",
      "Collecting yarl<2.0,>=1.0\n",
      "  Downloading yarl-1.7.0-cp38-cp38-win_amd64.whl (122 kB)\n",
      "Collecting frozenlist>=1.1.1\n",
      "  Downloading frozenlist-1.2.0-cp38-cp38-win_amd64.whl (83 kB)\n",
      "Collecting multidict<7.0,>=4.5\n",
      "  Downloading multidict-5.2.0-cp38-cp38-win_amd64.whl (45 kB)\n",
      "Requirement already satisfied: typing-extensions>=3.6.5 in c:\\users\\tolgayaz91\\anaconda3\\lib\\site-packages (from async-timeout->aioredis<2->ray[default]>=1.4.0->modin[ray]) (3.7.4.3)\n",
      "Requirement already satisfied: idna>=2.0 in c:\\users\\tolgayaz91\\anaconda3\\lib\\site-packages (from yarl<2.0,>=1.0->aiohttp->ray[default]>=1.4.0->modin[ray]) (2.10)\n",
      "Collecting nvidia-ml-py3>=7.352.0\n",
      "  Downloading nvidia-ml-py3-7.352.0.tar.gz (19 kB)\n",
      "Requirement already satisfied: psutil in c:\\users\\tolgayaz91\\anaconda3\\lib\\site-packages (from gpustat->ray[default]>=1.4.0->modin[ray]) (5.8.0)\n",
      "Collecting blessings>=1.6\n",
      "  Downloading blessings-1.7-py3-none-any.whl (18 kB)\n",
      "Requirement already satisfied: pyrsistent>=0.14.0 in c:\\users\\tolgayaz91\\anaconda3\\lib\\site-packages (from jsonschema->ray[default]>=1.4.0->modin[ray]) (0.17.3)\n",
      "Requirement already satisfied: setuptools in c:\\users\\tolgayaz91\\anaconda3\\lib\\site-packages (from jsonschema->ray[default]>=1.4.0->modin[ray]) (58.0.4)\n",
      "Collecting opencensus-context==0.1.2\n",
      "  Downloading opencensus_context-0.1.2-py2.py3-none-any.whl (4.4 kB)\n",
      "Collecting google-api-core<3.0.0,>=1.0.0\n",
      "  Downloading google_api_core-2.2.1-py2.py3-none-any.whl (95 kB)\n",
      "Requirement already satisfied: google-auth<3.0dev,>=1.25.0 in c:\\users\\tolgayaz91\\anaconda3\\lib\\site-packages (from google-api-core<3.0.0,>=1.0.0->opencensus->ray[default]>=1.4.0->modin[ray]) (1.35.0)\n",
      "Collecting googleapis-common-protos<2.0dev,>=1.52.0\n",
      "  Downloading googleapis_common_protos-1.53.0-py2.py3-none-any.whl (198 kB)\n",
      "Requirement already satisfied: pyasn1-modules>=0.2.1 in c:\\users\\tolgayaz91\\anaconda3\\lib\\site-packages (from google-auth<3.0dev,>=1.25.0->google-api-core<3.0.0,>=1.0.0->opencensus->ray[default]>=1.4.0->modin[ray]) (0.2.8)\n",
      "Requirement already satisfied: rsa<5,>=3.1.4 in c:\\users\\tolgayaz91\\anaconda3\\lib\\site-packages (from google-auth<3.0dev,>=1.25.0->google-api-core<3.0.0,>=1.0.0->opencensus->ray[default]>=1.4.0->modin[ray]) (4.7.2)\n",
      "Requirement already satisfied: cachetools<5.0,>=2.0.0 in c:\\users\\tolgayaz91\\anaconda3\\lib\\site-packages (from google-auth<3.0dev,>=1.25.0->google-api-core<3.0.0,>=1.0.0->opencensus->ray[default]>=1.4.0->modin[ray]) (4.2.2)\n",
      "Requirement already satisfied: pyasn1<0.5.0,>=0.4.6 in c:\\users\\tolgayaz91\\anaconda3\\lib\\site-packages (from pyasn1-modules>=0.2.1->google-auth<3.0dev,>=1.25.0->google-api-core<3.0.0,>=1.0.0->opencensus->ray[default]>=1.4.0->modin[ray]) (0.4.8)\n",
      "Requirement already satisfied: certifi>=2017.4.17 in c:\\users\\tolgayaz91\\anaconda3\\lib\\site-packages (from requests->ray[default]>=1.4.0->modin[ray]) (2021.10.8)\n",
      "Requirement already satisfied: urllib3<1.27,>=1.21.1 in c:\\users\\tolgayaz91\\anaconda3\\lib\\site-packages (from requests->ray[default]>=1.4.0->modin[ray]) (1.26.6)\n",
      "Requirement already satisfied: pyparsing>=2.0.2 in c:\\users\\tolgayaz91\\anaconda3\\lib\\site-packages (from packaging->modin[ray]) (2.4.7)\n",
      "Building wheels for collected packages: gpustat, nvidia-ml-py3\n",
      "  Building wheel for gpustat (setup.py): started\n",
      "  Building wheel for gpustat (setup.py): finished with status 'done'\n",
      "  Created wheel for gpustat: filename=gpustat-0.6.0-py3-none-any.whl size=12617 sha256=b19f089c77934bae9a48c2f58b419ca01f0302e113873a5a6bfc05800dca30e7\n",
      "  Stored in directory: c:\\users\\tolgayaz91\\appdata\\local\\pip\\cache\\wheels\\0d\\d9\\80\\b6cbcdc9946c7b50ce35441cc9e7d8c5a9d066469ba99bae44\n",
      "  Building wheel for nvidia-ml-py3 (setup.py): started\n",
      "  Building wheel for nvidia-ml-py3 (setup.py): finished with status 'done'\n",
      "  Created wheel for nvidia-ml-py3: filename=nvidia_ml_py3-7.352.0-py3-none-any.whl size=19191 sha256=08cb792c32bc442166c171bef127ce7ac62106399742b106105023dbe6e42d80\n",
      "  Stored in directory: c:\\users\\tolgayaz91\\appdata\\local\\pip\\cache\\wheels\\b9\\b1\\68\\cb4feab29709d4155310d29a421389665dcab9eb3b679b527b\n",
      "Successfully built gpustat nvidia-ml-py3\n",
      "Installing collected packages: multidict, frozenlist, yarl, googleapis-common-protos, async-timeout, aiosignal, redis, opencensus-context, nvidia-ml-py3, hiredis, google-api-core, blessings, aiohttp, ray, py-spy, pandas, opencensus, gpustat, colorful, aioredis, aiohttp-cors, pyarrow, modin\n",
      "  Attempting uninstall: pandas\n",
      "    Found existing installation: pandas 1.3.1\n",
      "    Uninstalling pandas-1.3.1:\n",
      "      Successfully uninstalled pandas-1.3.1\n",
      "Successfully installed aiohttp-3.8.0 aiohttp-cors-0.7.0 aioredis-1.3.1 aiosignal-1.2.0 async-timeout-4.0.0 blessings-1.7 colorful-0.5.4 frozenlist-1.2.0 google-api-core-2.2.1 googleapis-common-protos-1.53.0 gpustat-0.6.0 hiredis-2.0.0 modin-0.11.2 multidict-5.2.0 nvidia-ml-py3-7.352.0 opencensus-0.8.0 opencensus-context-0.1.2 pandas-1.3.4 py-spy-0.3.10 pyarrow-6.0.0 ray-1.7.0 redis-3.5.3 yarl-1.7.0\n"
     ]
    }
   ],
   "source": [
    "!pip install modin[ray]"
   ]
  },
  {
   "cell_type": "code",
   "execution_count": null,
   "id": "6ba595d8",
   "metadata": {},
   "outputs": [
    {
     "name": "stderr",
     "output_type": "stream",
     "text": [
      "UserWarning: Ray execution environment not yet initialized. Initializing...\n",
      "To remove this warning, run the following python code before doing dataframe operations:\n",
      "\n",
      "    import ray\n",
      "    ray.init()\n",
      "\n"
     ]
    }
   ],
   "source": [
    "%%timeit\n",
    "# read the file using config file (via Modin)\n",
    "file_type = config_data['file_type']\n",
    "source_file = \"./\" + config_data['file_name'] + f'.{file_type}'\n",
    "#print(\"\",source_file)\n",
    "import modin.pandas as pd\n",
    "df = pd.read_csv(source_file,config_data['inbound_delimiter'])"
   ]
  },
  {
   "cell_type": "markdown",
   "id": "c54baf0d",
   "metadata": {},
   "source": [
    "## **Result: The file could not be read via Modin because of memory (scalability) issues again. We should try another method.**"
   ]
  },
  {
   "cell_type": "markdown",
   "id": "50da4a3b",
   "metadata": {},
   "source": [
    "### **4c. Via Vaex**"
   ]
  },
  {
   "cell_type": "code",
   "execution_count": 5,
   "id": "9c5eadae",
   "metadata": {},
   "outputs": [
    {
     "name": "stdout",
     "output_type": "stream",
     "text": [
      "Note: you may need to restart the kernel to use updated packages.\n"
     ]
    }
   ],
   "source": [
    "pip install anyio >=3.0.0"
   ]
  },
  {
   "cell_type": "code",
   "execution_count": null,
   "id": "9a93ee8f",
   "metadata": {},
   "outputs": [],
   "source": [
    "!pip install --upgrade vaex"
   ]
  },
  {
   "cell_type": "code",
   "execution_count": 7,
   "id": "53b43952",
   "metadata": {},
   "outputs": [
    {
     "name": "stderr",
     "output_type": "stream",
     "text": [
      "C:\\Users\\tolgayaz91\\anaconda3\\lib\\site-packages\\vaex\\__init__.py:526: DtypeWarning: Columns (18,29,38,40,41,42) have mixed types.Specify dtype option on import or set low_memory=False.\n",
      "  return _from_csv_read(filename_or_buffer=filename_or_buffer, copy_index=copy_index,\n"
     ]
    }
   ],
   "source": [
    "# read the file using config file (via Vaex)\n",
    "file_type = config_data['file_type']\n",
    "source_file = \"./\" + config_data['file_name'] + f'.{file_type}'\n",
    "#print(\"\",source_file)\n",
    "import vaex as vx\n",
    "df = vx.open(source_file)"
   ]
  },
  {
   "cell_type": "markdown",
   "id": "e2b2a83b",
   "metadata": {},
   "source": [
    "## **Result: Although it takes a serious amount of time, the data could be read via Vaex.**"
   ]
  },
  {
   "cell_type": "markdown",
   "id": "61d20ba1",
   "metadata": {},
   "source": [
    "## **5. Validation and Summary**"
   ]
  },
  {
   "cell_type": "code",
   "execution_count": 215,
   "id": "13da61ee",
   "metadata": {},
   "outputs": [
    {
     "name": "stdout",
     "output_type": "stream",
     "text": [
      "column name and column length validation passed\n"
     ]
    },
    {
     "data": {
      "text/plain": [
       "1"
      ]
     },
     "execution_count": 215,
     "metadata": {},
     "output_type": "execute_result"
    }
   ],
   "source": [
    "# Validation\n",
    "\n",
    "util.col_header_val(df,config_data)"
   ]
  },
  {
   "cell_type": "code",
   "execution_count": 216,
   "id": "675419a9",
   "metadata": {},
   "outputs": [
    {
     "name": "stdout",
     "output_type": "stream",
     "text": [
      "Total Number of Rows: 11809233\n",
      "Total Number of Columns: 51\n",
      "File Size: 2.66 GB\n"
     ]
    }
   ],
   "source": [
    "print(\"Total Number of Rows: \" + str(df.shape[0]))\n",
    "print(\"Total Number of Columns: \" + str(df.shape[1]))\n",
    "print(\"File Size: 2.66 GB\")"
   ]
  },
  {
   "cell_type": "code",
   "execution_count": null,
   "id": "70f24104",
   "metadata": {},
   "outputs": [],
   "source": []
  }
 ],
 "metadata": {
  "kernelspec": {
   "display_name": "Python 3 (ipykernel)",
   "language": "python",
   "name": "python3"
  },
  "language_info": {
   "codemirror_mode": {
    "name": "ipython",
    "version": 3
   },
   "file_extension": ".py",
   "mimetype": "text/x-python",
   "name": "python",
   "nbconvert_exporter": "python",
   "pygments_lexer": "ipython3",
   "version": "3.8.11"
  }
 },
 "nbformat": 4,
 "nbformat_minor": 5
}
